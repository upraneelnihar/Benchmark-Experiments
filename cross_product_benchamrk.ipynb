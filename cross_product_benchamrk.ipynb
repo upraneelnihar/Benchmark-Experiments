{
 "cells": [
  {
   "cell_type": "code",
   "execution_count": 1,
   "metadata": {},
   "outputs": [],
   "source": [
    "import pandas as pd\n",
    "import numpy as np\n",
    "from itertools import product\n",
    "import turicreate\n",
    "from turicreate import SFrame, SArray\n",
    "from sklearn.utils.extmath import cartesian"
   ]
  },
  {
   "cell_type": "markdown",
   "metadata": {},
   "source": [
    "### **Task**: What is the fastest way to compute cross product and create a dataframe with two arrays x,y having xsize=100, ysize=100000 --> 10000000 (10Million rows)."
   ]
  },
  {
   "cell_type": "markdown",
   "metadata": {},
   "source": [
    "### **1. Using Pandas `Merge`**"
   ]
  },
  {
   "cell_type": "code",
   "execution_count": 2,
   "metadata": {},
   "outputs": [],
   "source": [
    "def pandas_merge(xsize, ysize):\n",
    "    dfx = pd.DataFrame({'x':list(range(xsize))})\n",
    "    dfy = pd.DataFrame({'y':list(range(ysize))})\n",
    "\n",
    "    dfx['temp'] = 0\n",
    "    dfy['temp'] = 0\n",
    "    \n",
    "    df_final = pd.merge(dfx, dfy, on=['temp'], how='outer').drop('temp', axis=1)\n",
    "    return df_final"
   ]
  },
  {
   "cell_type": "markdown",
   "metadata": {},
   "source": [
    "### **2. Using Pandas `Stack`**"
   ]
  },
  {
   "cell_type": "code",
   "execution_count": 3,
   "metadata": {},
   "outputs": [],
   "source": [
    "def pandas_stack(xsize, ysize):\n",
    "    dfx = pd.DataFrame({'x':list(range(xsize))})\n",
    "    dfy = pd.DataFrame({'y':list(range(ysize))})\n",
    "    df = (pd.DataFrame([dfx.x.tolist()], index=[dfy.y])\n",
    "           .stack()\n",
    "           .reset_index(level=1, drop=True)\n",
    "           .reset_index(name='x'))\n",
    "    return df"
   ]
  },
  {
   "cell_type": "markdown",
   "metadata": {},
   "source": [
    "### **3. Using Itertools `product`**"
   ]
  },
  {
   "cell_type": "code",
   "execution_count": 4,
   "metadata": {},
   "outputs": [],
   "source": [
    "def itertools_product(xsize, ysize):\n",
    "    x = list(range(xsize))\n",
    "    y = list(range(ysize))\n",
    "    data = list(product(x, y))\n",
    "    df = pd.DataFrame(data=data, columns=['x', 'y'])\n",
    "    return df"
   ]
  },
  {
   "cell_type": "markdown",
   "metadata": {},
   "source": [
    "### **4. Using Numpy `np.tile` adn `np.repeat`** "
   ]
  },
  {
   "cell_type": "code",
   "execution_count": 5,
   "metadata": {},
   "outputs": [],
   "source": [
    "def numpy_tile_repeat(xsize, ysize):\n",
    "    x = list(range(xsize))\n",
    "    y = list(range(ysize))\n",
    "    xx = np.tile(x, len(y))\n",
    "    yy = np.repeat(y, len(x))\n",
    "    df =  pd.DataFrame({'x': xx, 'y':yy})\n",
    "    return df"
   ]
  },
  {
   "cell_type": "markdown",
   "metadata": {},
   "source": [
    "### **5. Using Numpy `dstack` and `meshgrid`**"
   ]
  },
  {
   "cell_type": "code",
   "execution_count": 6,
   "metadata": {},
   "outputs": [],
   "source": [
    "def numpy_dstack_meshgrid(xsize, ysize):\n",
    "    x = list(range(xsize))\n",
    "    y = list(range(ysize))\n",
    "    data = np.dstack(np.meshgrid(x, y)).reshape(-1, 2)\n",
    "    df = pd.DataFrame(data= data, columns=['x', 'y'])\n",
    "    return df"
   ]
  },
  {
   "cell_type": "markdown",
   "metadata": {},
   "source": [
    "### **6. Using Turicreate join**"
   ]
  },
  {
   "cell_type": "code",
   "execution_count": 7,
   "metadata": {},
   "outputs": [],
   "source": [
    "def turicreate_join(xsize, ysize):\n",
    "    x = SArray(list(range(xsize)))\n",
    "    y = SArray(list(range(ysize)))\n",
    "\n",
    "    sfx = SFrame({'x':x})\n",
    "    sfy = SFrame({'y':y})\n",
    "\n",
    "    sfx = sfx.add_column(0, 'temp')\n",
    "    sfy = sfy.add_column(0, 'temp')\n",
    "\n",
    "    sf_final = sfx.join(sfy, on=['temp'], how='outer').remove_column('temp')\n",
    "#     df = sf_final.to_dataframe()\n",
    "    return sf_final"
   ]
  },
  {
   "cell_type": "markdown",
   "metadata": {},
   "source": [
    "### **7. Using `sklearn.utils.extmath.cartesian`**"
   ]
  },
  {
   "cell_type": "code",
   "execution_count": 8,
   "metadata": {},
   "outputs": [],
   "source": [
    "def sklearn_cartesian(xsize, ysize):\n",
    "    x = list(range(xsize))\n",
    "    y = list(range(ysize))\n",
    "    data = cartesian((x,y))\n",
    "    df = pd.DataFrame(data=data, columns=['x', 'y'])\n",
    "    return df"
   ]
  },
  {
   "cell_type": "markdown",
   "metadata": {},
   "source": [
    "# Benchmarking the time taken"
   ]
  },
  {
   "cell_type": "code",
   "execution_count": 9,
   "metadata": {},
   "outputs": [],
   "source": [
    "xsize=100\n",
    "ysize=100000"
   ]
  },
  {
   "cell_type": "code",
   "execution_count": 10,
   "metadata": {},
   "outputs": [
    {
     "name": "stdout",
     "output_type": "stream",
     "text": [
      "CPU times: user 459 ms, sys: 351 ms, total: 810 ms\n",
      "Wall time: 817 ms\n"
     ]
    }
   ],
   "source": [
    "%%time\n",
    "df = pandas_merge(xsize,ysize)"
   ]
  },
  {
   "cell_type": "code",
   "execution_count": 11,
   "metadata": {},
   "outputs": [
    {
     "name": "stdout",
     "output_type": "stream",
     "text": [
      "CPU times: user 323 ms, sys: 236 ms, total: 559 ms\n",
      "Wall time: 565 ms\n"
     ]
    }
   ],
   "source": [
    "%%time\n",
    "df = pandas_stack(xsize,ysize)"
   ]
  },
  {
   "cell_type": "code",
   "execution_count": 12,
   "metadata": {},
   "outputs": [
    {
     "name": "stdout",
     "output_type": "stream",
     "text": [
      "CPU times: user 5.42 s, sys: 876 ms, total: 6.3 s\n",
      "Wall time: 6.35 s\n"
     ]
    }
   ],
   "source": [
    "%%time\n",
    "df = itertools_product(xsize,ysize)"
   ]
  },
  {
   "cell_type": "code",
   "execution_count": 13,
   "metadata": {},
   "outputs": [
    {
     "name": "stdout",
     "output_type": "stream",
     "text": [
      "CPU times: user 82.9 ms, sys: 108 ms, total: 191 ms\n",
      "Wall time: 191 ms\n"
     ]
    }
   ],
   "source": [
    "%%time\n",
    "df = numpy_tile_repeat(xsize,ysize)"
   ]
  },
  {
   "cell_type": "code",
   "execution_count": 14,
   "metadata": {},
   "outputs": [
    {
     "name": "stdout",
     "output_type": "stream",
     "text": [
      "CPU times: user 105 ms, sys: 55.2 ms, total: 160 ms\n",
      "Wall time: 165 ms\n"
     ]
    }
   ],
   "source": [
    "%%time\n",
    "df = numpy_dstack_meshgrid(xsize, ysize)"
   ]
  },
  {
   "cell_type": "code",
   "execution_count": 15,
   "metadata": {},
   "outputs": [
    {
     "name": "stdout",
     "output_type": "stream",
     "text": [
      "CPU times: user 75.2 ms, sys: 116 ms, total: 191 ms\n",
      "Wall time: 192 ms\n"
     ]
    }
   ],
   "source": [
    "%%time\n",
    "df = sklearn_cartesian(xsize, ysize)"
   ]
  },
  {
   "cell_type": "markdown",
   "metadata": {},
   "source": [
    "# Results \n",
    "Machine details: 4GB Ram, 1core. Below is the order of the methods from fastest to slowest\n",
    "1. **`numpy_dstack_meshgrid` (rank1) (165ms)**\n",
    "2. **`numpy_tile_repeat` (rank2) (191ms)**\n",
    "3. **`sklearn_cartesian` (rank2)(192ms)**\n",
    "4. **`pandas_stack` (rank3)(565ms)**\n",
    "5. **`pandas_merge` (rank4)(817ms)**\n",
    "6. **`itertools_product` (rank5)(6.35s)**"
   ]
  }
 ],
 "metadata": {
  "kernelspec": {
   "display_name": "Python 3",
   "language": "python",
   "name": "python3"
  },
  "language_info": {
   "codemirror_mode": {
    "name": "ipython",
    "version": 3
   },
   "file_extension": ".py",
   "mimetype": "text/x-python",
   "name": "python",
   "nbconvert_exporter": "python",
   "pygments_lexer": "ipython3",
   "version": "3.7.5"
  }
 },
 "nbformat": 4,
 "nbformat_minor": 4
}
